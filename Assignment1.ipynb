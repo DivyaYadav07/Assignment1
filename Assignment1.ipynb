{
  "nbformat": 4,
  "nbformat_minor": 0,
  "metadata": {
    "colab": {
      "provenance": [],
      "authorship_tag": "ABX9TyOl/WGKJW6/dCOcuh8TOhPT",
      "include_colab_link": true
    },
    "kernelspec": {
      "name": "python3",
      "display_name": "Python 3"
    },
    "language_info": {
      "name": "python"
    }
  },
  "cells": [
    {
      "cell_type": "markdown",
      "metadata": {
        "id": "view-in-github",
        "colab_type": "text"
      },
      "source": [
        "<a href=\"https://colab.research.google.com/github/DivyaYadav07/Assignment1/blob/main/Assignment1.ipynb\" target=\"_parent\"><img src=\"https://colab.research.google.com/assets/colab-badge.svg\" alt=\"Open In Colab\"/></a>"
      ]
    },
    {
      "cell_type": "markdown",
      "source": [
        "---\n",
        "# **1 Add numbers and Concatinate strings**\n",
        "\n",
        "---\n",
        "### **1.1 Add two numbers**\n"
      ],
      "metadata": {
        "id": "gl-GZW2BbM8J"
      }
    },
    {
      "cell_type": "code",
      "source": [
        "a = 10\t\t\t\t\n",
        "b = 20\n",
        "c = a + b       # Add two numbers\n",
        "print (a, \" + \", b, \" --> \", c)"
      ],
      "metadata": {
        "colab": {
          "base_uri": "https://localhost:8080/"
        },
        "id": "771U0ahdXydd",
        "outputId": "b11b1ea6-27cc-433a-b792-fa2c3302a4ed"
      },
      "execution_count": 1,
      "outputs": [
        {
          "output_type": "stream",
          "name": "stdout",
          "text": [
            "100  +  220  -->  320\n"
          ]
        }
      ]
    },
    {
      "cell_type": "markdown",
      "source": [
        "---\n",
        "### **1.2 Concatinate two strings**\n",
        "---"
      ],
      "metadata": {
        "id": "NNdi7WiNb90G"
      }
    },
    {
      "cell_type": "code",
      "source": [
        "a = \"Divya\"\n",
        "b = \" Yadav\"\n",
        "c = a + b\t\t# Concatinate two strings\n",
        "print (a, \" + \", b, \" --> \", c)"
      ],
      "metadata": {
        "colab": {
          "base_uri": "https://localhost:8080/"
        },
        "id": "buEpaWfVXyf0",
        "outputId": "c66e559e-8cf6-43c5-9e45-aa2a82ff1026"
      },
      "execution_count": 2,
      "outputs": [
        {
          "output_type": "stream",
          "name": "stdout",
          "text": [
            "Divya  +   Yadav  -->  Divya Yadav\n"
          ]
        }
      ]
    },
    {
      "cell_type": "markdown",
      "source": [
        "---\n",
        "### **1.3 Input two strings from user and concatinate them**\n",
        "---"
      ],
      "metadata": {
        "id": "KGcPuhhAcroQ"
      }
    },
    {
      "cell_type": "code",
      "source": [
        "a = input(\"Enter First String: \")\n",
        "b = input(\"Enter Second String: \")\n",
        "c = a + b\t\t# concatinate two77 strings\n",
        "print  (a, \" + \", b, \"      --> \", c)\n",
        "\n",
        "# Run the program with (1) Two strings and (2) Two numbers"
      ],
      "metadata": {
        "colab": {
          "base_uri": "https://localhost:8080/"
        },
        "id": "pVCSwZM4Xyi4",
        "outputId": "4853fce2-cecb-4c92-dca4-cb874bd14237"
      },
      "execution_count": 4,
      "outputs": [
        {
          "output_type": "stream",
          "name": "stdout",
          "text": [
            "Enter First String: div\n",
            "Enter Second String: yadv\n",
            "div  +  yadv       -->  divyadv\n"
          ]
        }
      ]
    },
    {
      "cell_type": "markdown",
      "source": [
        "---\n",
        "# **Loop**\n",
        "---\n",
        "### **1.4 While Loop**"
      ],
      "metadata": {
        "id": "GmtN4_Rnc_Ss"
      }
    },
    {
      "cell_type": "code",
      "source": [
        "i=1\n",
        "while i <= 10:\n",
        "\tprint (4 * i)\n",
        "\ti = i+1"
      ],
      "metadata": {
        "colab": {
          "base_uri": "https://localhost:8080/"
        },
        "id": "oumnAgU5Xylx",
        "outputId": "d12ab800-eba7-4e07-9b4d-6a2eccf9a96f"
      },
      "execution_count": 5,
      "outputs": [
        {
          "output_type": "stream",
          "name": "stdout",
          "text": [
            "2\n",
            "4\n",
            "6\n",
            "8\n",
            "10\n",
            "12\n",
            "14\n",
            "16\n",
            "18\n",
            "20\n"
          ]
        }
      ]
    },
    {
      "cell_type": "code",
      "source": [
        "for i in range(1,15):\n",
        "\tprint (3*i)"
      ],
      "metadata": {
        "colab": {
          "base_uri": "https://localhost:8080/"
        },
        "id": "WDEZjM1ZXyoq",
        "outputId": "a09385cf-d0c8-4d18-d15e-d79741076232"
      },
      "execution_count": 6,
      "outputs": [
        {
          "output_type": "stream",
          "name": "stdout",
          "text": [
            "3\n",
            "6\n",
            "9\n",
            "12\n",
            "15\n",
            "18\n",
            "21\n",
            "24\n",
            "27\n",
            "30\n",
            "33\n",
            "36\n",
            "39\n",
            "42\n"
          ]
        }
      ]
    },
    {
      "cell_type": "code",
      "source": [
        "for i in range(0,-10,-1):\n",
        "\tprint (i)"
      ],
      "metadata": {
        "colab": {
          "base_uri": "https://localhost:8080/"
        },
        "id": "rmm4YVLvXysF",
        "outputId": "e9b4936d-2d43-4ba7-84ba-ac950dd5c58d"
      },
      "execution_count": 7,
      "outputs": [
        {
          "output_type": "stream",
          "name": "stdout",
          "text": [
            "0\n",
            "-1\n",
            "-2\n",
            "-3\n",
            "-4\n",
            "-5\n",
            "-6\n",
            "-7\n",
            "-8\n",
            "-9\n"
          ]
        }
      ]
    },
    {
      "cell_type": "markdown",
      "source": [
        "---\n",
        "### **1.5 Sum all numbers from 1 to 10**\n",
        "---"
      ],
      "metadata": {
        "id": "qumH6Q6MeZuh"
      }
    },
    {
      "cell_type": "code",
      "source": [
        "a=0\n",
        "for i in range(1,11):\n",
        "\ta=a+i\n",
        "print (\"Sum is --> \",a)\n"
      ],
      "metadata": {
        "colab": {
          "base_uri": "https://localhost:8080/"
        },
        "id": "KG_3uB25eBFV",
        "outputId": "e7ef94c9-a925-4700-86e4-76c8376ed7b5"
      },
      "execution_count": 8,
      "outputs": [
        {
          "output_type": "stream",
          "name": "stdout",
          "text": [
            "Sum is -->  55\n"
          ]
        }
      ]
    },
    {
      "cell_type": "code",
      "source": [
        "print (\"Sum is --> \", sum(range(1,11)))"
      ],
      "metadata": {
        "id": "MRhnK7GIeBVl"
      },
      "execution_count": null,
      "outputs": []
    },
    {
      "cell_type": "markdown",
      "source": [
        "---\n",
        "### **1.6 If-Else - Conditional Checking**\n",
        "---"
      ],
      "metadata": {
        "id": "ZMNfXHq8e2IX"
      }
    },
    {
      "cell_type": "code",
      "source": [
        "a = int(input(\"Enter First No: \"))\n",
        "b = int(input(\"Enter Second No: \"))\n",
        "if  a < b: \n",
        "\tprint (a,\" < \",b)\n",
        "\tx = 90\n",
        "\ty = 100\n",
        "else:\n",
        "\tprint (a,\" > \",b)"
      ],
      "metadata": {
        "colab": {
          "base_uri": "https://localhost:8080/"
        },
        "id": "7ANrGPxbeBYa",
        "outputId": "1e2ee955-468a-493a-efcb-77476b2985ae"
      },
      "execution_count": 9,
      "outputs": [
        {
          "output_type": "stream",
          "name": "stdout",
          "text": [
            "Enter First No: 12\n",
            "Enter Second No: 34\n",
            "12  <  34\n"
          ]
        }
      ]
    },
    {
      "cell_type": "code",
      "source": [],
      "metadata": {
        "id": "yiSUu75QeBbi"
      },
      "execution_count": null,
      "outputs": []
    },
    {
      "cell_type": "code",
      "source": [],
      "metadata": {
        "id": "xcerC8y9eBej"
      },
      "execution_count": null,
      "outputs": []
    },
    {
      "cell_type": "code",
      "source": [],
      "metadata": {
        "id": "2CagKzy4eBhV"
      },
      "execution_count": null,
      "outputs": []
    },
    {
      "cell_type": "code",
      "source": [],
      "metadata": {
        "id": "2jRI5MC5eBkE"
      },
      "execution_count": null,
      "outputs": []
    },
    {
      "cell_type": "code",
      "source": [],
      "metadata": {
        "id": "OjWJ-0zUeBno"
      },
      "execution_count": null,
      "outputs": []
    }
  ]
}